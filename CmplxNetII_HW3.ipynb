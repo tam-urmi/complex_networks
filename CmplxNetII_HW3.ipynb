{
 "cells": [
  {
   "cell_type": "markdown",
   "id": "706861ea-906e-4412-b9e2-67a57d0c3437",
   "metadata": {},
   "source": [
    "##### Complex Networks II | Tamanna Urmi\n",
    "* Homework 3\n",
    "* Date: April 28, 2022\n"
   ]
  },
  {
   "cell_type": "markdown",
   "id": "bfc7b424-5cdb-4020-baef-ea36ed8283e3",
   "metadata": {},
   "source": [
    "Libraries:"
   ]
  },
  {
   "cell_type": "code",
   "execution_count": 1,
   "id": "f0719bf3-2f4e-42c2-9b00-5cd239aebd4c",
   "metadata": {
    "tags": []
   },
   "outputs": [],
   "source": [
    "\n",
    "import numpy as np\n",
    "import pandas as pd\n",
    "import networkx as nx\n",
    "import matplotlib.pyplot as plt\n",
    "import seaborn as sns\n",
    "import random as rnd\n"
   ]
  },
  {
   "cell_type": "markdown",
   "id": "35f0994d-82f4-4eb1-b418-6264aa35981a",
   "metadata": {},
   "source": [
    "#### 2(a) Exponentially-distributed random variables"
   ]
  },
  {
   "cell_type": "code",
   "execution_count": 181,
   "id": "62ca7cb9-c3cb-4c88-a3cf-c2e2432b73aa",
   "metadata": {},
   "outputs": [
    {
     "data": {
      "text/plain": [
       "1000000"
      ]
     },
     "execution_count": 181,
     "metadata": {},
     "output_type": "execute_result"
    }
   ],
   "source": [
    "# Inverse-CDF sampling\n",
    "\n",
    "lambd = 0.25\n",
    "n = np.linspace(1, 10**6, 10**6)\n",
    "X_sim = []\n",
    "for i in n:\n",
    "    X_sim.append( - np.log(1-rnd.uniform(0, 1))/lambd)\n",
    "\n",
    "len(X_sim)"
   ]
  },
  {
   "cell_type": "code",
   "execution_count": 177,
   "id": "568c7a4c-91ee-4888-a61e-17620a988b8b",
   "metadata": {},
   "outputs": [],
   "source": [
    "def linbin_fx(data):\n",
    "    b0 = min(data)\n",
    "    bn = max(data)\n",
    "    \n",
    "    # create bins from data\n",
    "    bin_edges = np.linspace(b0, bn, 30, axis=0)\n",
    "    data_df = pd.DataFrame(data, columns = ['x'])\n",
    "    # data_df['y'] = f(data_df['x'])\n",
    "    \n",
    "    # linearly bin the data\n",
    "    lin_binned_dt = pd.cut(data, bin_edges, right=False)\n",
    "    data_df['bin'] = lin_binned_dt\n",
    "    \n",
    "    # calculation various X and the Y\n",
    "    lin_binned_xy = data_df.groupby(['bin']).agg({'x': [\"min\", \"count\"]}).droplevel(axis=1, level=0).reset_index()\n",
    "    lin_binned_xy.columns = ['bin','X_min','X_cnt']\n",
    "    lin_binned_xy['X_prob'] = lin_binned_xy.apply(lambda row: row['X_cnt']/(len(data)*(row['bin'].right - row['bin'].left)), axis = 1)\n",
    "\n",
    "    lin_binned_xy = lin_binned_xy.dropna()\n",
    "    return lin_binned_xy\n"
   ]
  },
  {
   "cell_type": "code",
   "execution_count": 182,
   "id": "9c00ca0b-fc30-493e-92b6-c0a9aad61be5",
   "metadata": {
    "tags": []
   },
   "outputs": [
    {
     "data": {
      "text/html": [
       "<div>\n",
       "<style scoped>\n",
       "    .dataframe tbody tr th:only-of-type {\n",
       "        vertical-align: middle;\n",
       "    }\n",
       "\n",
       "    .dataframe tbody tr th {\n",
       "        vertical-align: top;\n",
       "    }\n",
       "\n",
       "    .dataframe thead th {\n",
       "        text-align: right;\n",
       "    }\n",
       "</style>\n",
       "<table border=\"1\" class=\"dataframe\">\n",
       "  <thead>\n",
       "    <tr style=\"text-align: right;\">\n",
       "      <th></th>\n",
       "      <th>bin</th>\n",
       "      <th>X_min</th>\n",
       "      <th>X_cnt</th>\n",
       "      <th>X_prob</th>\n",
       "    </tr>\n",
       "  </thead>\n",
       "  <tbody>\n",
       "    <tr>\n",
       "      <th>0</th>\n",
       "      <td>[1.02e-05, 2.022)</td>\n",
       "      <td>0.000010</td>\n",
       "      <td>397882</td>\n",
       "      <td>0.196777</td>\n",
       "    </tr>\n",
       "    <tr>\n",
       "      <th>1</th>\n",
       "      <td>[2.022, 4.044)</td>\n",
       "      <td>2.021968</td>\n",
       "      <td>239625</td>\n",
       "      <td>0.118509</td>\n",
       "    </tr>\n",
       "    <tr>\n",
       "      <th>2</th>\n",
       "      <td>[4.044, 6.066)</td>\n",
       "      <td>4.043919</td>\n",
       "      <td>143418</td>\n",
       "      <td>0.070929</td>\n",
       "    </tr>\n",
       "    <tr>\n",
       "      <th>3</th>\n",
       "      <td>[6.066, 8.088)</td>\n",
       "      <td>6.065869</td>\n",
       "      <td>86910</td>\n",
       "      <td>0.042982</td>\n",
       "    </tr>\n",
       "    <tr>\n",
       "      <th>4</th>\n",
       "      <td>[8.088, 10.11)</td>\n",
       "      <td>8.087842</td>\n",
       "      <td>52456</td>\n",
       "      <td>0.025943</td>\n",
       "    </tr>\n",
       "  </tbody>\n",
       "</table>\n",
       "</div>"
      ],
      "text/plain": [
       "                 bin     X_min   X_cnt    X_prob\n",
       "0  [1.02e-05, 2.022)  0.000010  397882  0.196777\n",
       "1     [2.022, 4.044)  2.021968  239625  0.118509\n",
       "2     [4.044, 6.066)  4.043919  143418  0.070929\n",
       "3     [6.066, 8.088)  6.065869   86910  0.042982\n",
       "4     [8.088, 10.11)  8.087842   52456  0.025943"
      ]
     },
     "execution_count": 182,
     "metadata": {},
     "output_type": "execute_result"
    }
   ],
   "source": [
    "X_exd = linbin_fx(X_sim)\n",
    "X_exd.head()"
   ]
  },
  {
   "cell_type": "code",
   "execution_count": 183,
   "id": "197045de-cad4-47fb-ade9-09a946c4add9",
   "metadata": {},
   "outputs": [],
   "source": [
    "### Theoretical distribution\n",
    "import math\n",
    "\n",
    "x = np.linspace(0, 55, 55)\n",
    "y = lambd*math.e**(-lambd*x)\n"
   ]
  },
  {
   "cell_type": "code",
   "execution_count": 184,
   "id": "2a58d1d4-9b63-4fb1-b8d2-205c7b4efd88",
   "metadata": {},
   "outputs": [
    {
     "data": {
      "text/plain": [
       "Text(0.5, 1.0, 'Exponential distribution')"
      ]
     },
     "execution_count": 184,
     "metadata": {},
     "output_type": "execute_result"
    },
    {
     "data": {
      "image/png": "[encoded data removed]",
      "text/plain": [
       "<Figure size 720x504 with 1 Axes>"
      ]
     },
     "metadata": {
      "needs_background": "light"
     },
     "output_type": "display_data"
    }
   ],
   "source": [
    "plt.figure(figsize = (10,7))\n",
    "plt.semilogy(X_exd.X_min, X_exd.X_prob, marker = 'o', color = 'g', label = 'simulation')\n",
    "plt.semilogy(x, y, marker = '.', color = 'r', label = 'theoretical')\n",
    "plt.legend()\n",
    "plt.title('Exponential distribution')"
   ]
  },
  {
   "cell_type": "code",
   "execution_count": 185,
   "id": "76e0cfd1-ba92-4838-bada-9a3c2dd20360",
   "metadata": {},
   "outputs": [
    {
     "data": {
      "text/plain": [
       "Text(0.5, 1.0, 'Exponential distribution')"
      ]
     },
     "execution_count": 185,
     "metadata": {},
     "output_type": "execute_result"
    },
    {
     "data": {
      "image/png": "[encoded data removed]",
      "text/plain": [
       "<Figure size 720x504 with 1 Axes>"
      ]
     },
     "metadata": {
      "needs_background": "light"
     },
     "output_type": "display_data"
    }
   ],
   "source": [
    "plt.figure(figsize = (10,7))\n",
    "plt.plot(X_exd.X_min, X_exd.X_prob, marker = 'o', color = 'g', label = 'simulation')\n",
    "plt.plot(x, y, marker = '.', color = 'r', label = 'theoretical')\n",
    "plt.legend()\n",
    "plt.title('Exponential distribution')"
   ]
  },
  {
   "cell_type": "markdown",
   "id": "fe395b85-bdc9-43b8-b19f-f6479f165c30",
   "metadata": {},
   "source": [
    "#### 2(b) Pareto-distributed random variables"
   ]
  },
  {
   "cell_type": "code",
   "execution_count": 138,
   "id": "f510c04b-e978-4c61-97de-5421247a460b",
   "metadata": {},
   "outputs": [
    {
     "data": {
      "text/plain": [
       "1000000"
      ]
     },
     "execution_count": 138,
     "metadata": {},
     "output_type": "execute_result"
    }
   ],
   "source": [
    "### Inverse-CDF sampling\n",
    "\n",
    "alpha = 0.25\n",
    "x_m = 1\n",
    "n = np.linspace(1, 10**6, 10**6)\n",
    "X_sim2 = []\n",
    "for i in n:\n",
    "    X_sim2.append( x_m*(1 - rnd.uniform(0, 1))**(-1/alpha) )\n",
    "\n",
    "len(X_sim2)\n"
   ]
  },
  {
   "cell_type": "code",
   "execution_count": 176,
   "id": "c4956636-6836-4f1d-bd10-1e2652ad80d5",
   "metadata": {},
   "outputs": [],
   "source": [
    "def logbin_fx(data, b):\n",
    "    data = np.array(data)\n",
    "    data = data[data>0]\n",
    "    \n",
    "    b0 = np.log10(min(data))\n",
    "    print(b0)\n",
    "    bn = np.log10(max(data))\n",
    "    print(bn)\n",
    "    # create bins from data\n",
    "    bin_edges = np.logspace(b0, bn, num= b + 1, endpoint=True, base=10.0, dtype=None, axis=0)\n",
    "    data_df = pd.DataFrame(data, columns = ['x'])\n",
    "    print(len(data))\n",
    "    # logbin the data\n",
    "    log_binned_dt = pd.cut(data, bin_edges, right=False)\n",
    "    data_df['bin'] = log_binned_dt\n",
    "    \n",
    "    # calculation various X and the Y\n",
    "    log_binned_xy = data_df.groupby(['bin']).agg({'x': [\"min\", \"count\"]}).droplevel(axis=1, level=0).reset_index()\n",
    "    log_binned_xy.columns = ['bin', 'X_min', 'X_cnt']\n",
    "    log_binned_xy['bin_length'] = log_binned_xy.apply(lambda row: row['bin'].right - row['bin'].left, axis = 1)\n",
    "    log_binned_xy['X_prob'] = log_binned_xy.apply(lambda row: row['X_cnt']/(len(data)*(row['bin'].right - row['bin'].left)), axis = 1)\n",
    "\n",
    "    log_binned_xy = log_binned_xy.dropna()\n",
    "    return log_binned_xy\n"
   ]
  },
  {
   "cell_type": "code",
   "execution_count": 69,
   "id": "e3622dfd-9692-4679-8c02-df45b1919334",
   "metadata": {
    "collapsed": true,
    "jupyter": {
     "outputs_hidden": true,
     "source_hidden": true
    },
    "tags": []
   },
   "outputs": [
    {
     "name": "stdout",
     "output_type": "stream",
     "text": [
      "1.4690638993670565e-06\n",
      "22.099134621061957\n",
      "1000000\n"
     ]
    },
    {
     "data": {
      "text/html": [
       "<div>\n",
       "<style scoped>\n",
       "    .dataframe tbody tr th:only-of-type {\n",
       "        vertical-align: middle;\n",
       "    }\n",
       "\n",
       "    .dataframe tbody tr th {\n",
       "        vertical-align: top;\n",
       "    }\n",
       "\n",
       "    .dataframe thead th {\n",
       "        text-align: right;\n",
       "    }\n",
       "</style>\n",
       "<table border=\"1\" class=\"dataframe\">\n",
       "  <thead>\n",
       "    <tr style=\"text-align: right;\">\n",
       "      <th></th>\n",
       "      <th>bin</th>\n",
       "      <th>X_min</th>\n",
       "      <th>X_cnt</th>\n",
       "      <th>bin_length</th>\n",
       "      <th>X_prob</th>\n",
       "    </tr>\n",
       "  </thead>\n",
       "  <tbody>\n",
       "    <tr>\n",
       "      <th>0</th>\n",
       "      <td>[1.0, 12.734)</td>\n",
       "      <td>1.000003</td>\n",
       "      <td>470546</td>\n",
       "      <td>11.734</td>\n",
       "      <td>4.010107e-02</td>\n",
       "    </tr>\n",
       "    <tr>\n",
       "      <th>1</th>\n",
       "      <td>[12.734, 162.149)</td>\n",
       "      <td>12.733861</td>\n",
       "      <td>248737</td>\n",
       "      <td>149.415</td>\n",
       "      <td>1.664739e-03</td>\n",
       "    </tr>\n",
       "    <tr>\n",
       "      <th>2</th>\n",
       "      <td>[162.149, 2064.769)</td>\n",
       "      <td>162.150435</td>\n",
       "      <td>132242</td>\n",
       "      <td>1902.620</td>\n",
       "      <td>6.950521e-05</td>\n",
       "    </tr>\n",
       "    <tr>\n",
       "      <th>3</th>\n",
       "      <td>[2064.769, 26292.271)</td>\n",
       "      <td>2064.926242</td>\n",
       "      <td>69905</td>\n",
       "      <td>24227.502</td>\n",
       "      <td>2.885357e-06</td>\n",
       "    </tr>\n",
       "    <tr>\n",
       "      <th>4</th>\n",
       "      <td>[26292.271, 334799.466)</td>\n",
       "      <td>26292.433597</td>\n",
       "      <td>36996</td>\n",
       "      <td>308507.195</td>\n",
       "      <td>1.199194e-07</td>\n",
       "    </tr>\n",
       "  </tbody>\n",
       "</table>\n",
       "</div>"
      ],
      "text/plain": [
       "                       bin         X_min   X_cnt  bin_length        X_prob\n",
       "0            [1.0, 12.734)      1.000003  470546      11.734  4.010107e-02\n",
       "1        [12.734, 162.149)     12.733861  248737     149.415  1.664739e-03\n",
       "2      [162.149, 2064.769)    162.150435  132242    1902.620  6.950521e-05\n",
       "3    [2064.769, 26292.271)   2064.926242   69905   24227.502  2.885357e-06\n",
       "4  [26292.271, 334799.466)  26292.433597   36996  308507.195  1.199194e-07"
      ]
     },
     "execution_count": 69,
     "metadata": {},
     "output_type": "execute_result"
    }
   ],
   "source": [
    "X_pd = logbin_fx(X_sim2, 20)\n",
    "X_pd.head()"
   ]
  },
  {
   "cell_type": "code",
   "execution_count": 49,
   "id": "33e53d1d-dd41-4fc3-ad23-ea79ef3679b2",
   "metadata": {
    "collapsed": true,
    "jupyter": {
     "outputs_hidden": true,
     "source_hidden": true
    },
    "tags": []
   },
   "outputs": [
    {
     "data": {
      "text/plain": [
       "15.48"
      ]
     },
     "execution_count": 49,
     "metadata": {},
     "output_type": "execute_result"
    }
   ],
   "source": [
    "X_pd.bin.iloc[0].length\n"
   ]
  },
  {
   "cell_type": "code",
   "execution_count": 50,
   "id": "26bf75a1-8e68-421b-9587-581b9bfef6a2",
   "metadata": {
    "collapsed": true,
    "jupyter": {
     "outputs_hidden": true,
     "source_hidden": true
    },
    "tags": []
   },
   "outputs": [
    {
     "data": {
      "text/plain": [
       "15.48"
      ]
     },
     "execution_count": 50,
     "metadata": {},
     "output_type": "execute_result"
    }
   ],
   "source": [
    "X_pd.bin.iloc[0].right - X_pd.bin.iloc[0].left"
   ]
  },
  {
   "cell_type": "code",
   "execution_count": 140,
   "id": "0a4e3f53-019f-42f0-9ccd-bf3d07f533af",
   "metadata": {},
   "outputs": [],
   "source": [
    "### Theoretical distribution\n",
    "\n",
    "x = np.logspace(0, 22, 20)\n",
    "y = alpha*x_m**alpha/(x**(alpha + 1))\n",
    "\n"
   ]
  },
  {
   "cell_type": "code",
   "execution_count": 142,
   "id": "2820ec26-248f-4052-bcbf-146c0a4430f6",
   "metadata": {},
   "outputs": [
    {
     "data": {
      "text/html": [
       "<div>\n",
       "<style scoped>\n",
       "    .dataframe tbody tr th:only-of-type {\n",
       "        vertical-align: middle;\n",
       "    }\n",
       "\n",
       "    .dataframe tbody tr th {\n",
       "        vertical-align: top;\n",
       "    }\n",
       "\n",
       "    .dataframe thead th {\n",
       "        text-align: right;\n",
       "    }\n",
       "</style>\n",
       "<table border=\"1\" class=\"dataframe\">\n",
       "  <thead>\n",
       "    <tr style=\"text-align: right;\">\n",
       "      <th></th>\n",
       "      <th>bin</th>\n",
       "      <th>X_min</th>\n",
       "      <th>X_cnt</th>\n",
       "      <th>bin_length</th>\n",
       "      <th>X_prob</th>\n",
       "    </tr>\n",
       "  </thead>\n",
       "  <tbody>\n",
       "    <tr>\n",
       "      <th>0</th>\n",
       "      <td>[1.0, 12.734)</td>\n",
       "      <td>1.000003e+00</td>\n",
       "      <td>470546</td>\n",
       "      <td>1.173400e+01</td>\n",
       "      <td>4.010107e-02</td>\n",
       "    </tr>\n",
       "    <tr>\n",
       "      <th>1</th>\n",
       "      <td>[12.734, 162.149)</td>\n",
       "      <td>1.273386e+01</td>\n",
       "      <td>248737</td>\n",
       "      <td>1.494150e+02</td>\n",
       "      <td>1.664739e-03</td>\n",
       "    </tr>\n",
       "    <tr>\n",
       "      <th>2</th>\n",
       "      <td>[162.149, 2064.769)</td>\n",
       "      <td>1.621504e+02</td>\n",
       "      <td>132242</td>\n",
       "      <td>1.902620e+03</td>\n",
       "      <td>6.950521e-05</td>\n",
       "    </tr>\n",
       "    <tr>\n",
       "      <th>3</th>\n",
       "      <td>[2064.769, 26292.271)</td>\n",
       "      <td>2.064926e+03</td>\n",
       "      <td>69905</td>\n",
       "      <td>2.422750e+04</td>\n",
       "      <td>2.885357e-06</td>\n",
       "    </tr>\n",
       "    <tr>\n",
       "      <th>4</th>\n",
       "      <td>[26292.271, 334799.466)</td>\n",
       "      <td>2.629243e+04</td>\n",
       "      <td>36996</td>\n",
       "      <td>3.085072e+05</td>\n",
       "      <td>1.199194e-07</td>\n",
       "    </tr>\n",
       "    <tr>\n",
       "      <th>5</th>\n",
       "      <td>[334799.466, 4263256.027)</td>\n",
       "      <td>3.349163e+05</td>\n",
       "      <td>19705</td>\n",
       "      <td>3.928457e+06</td>\n",
       "      <td>5.015965e-09</td>\n",
       "    </tr>\n",
       "    <tr>\n",
       "      <th>6</th>\n",
       "      <td>[4263256.027, 54287278.734)</td>\n",
       "      <td>4.263875e+06</td>\n",
       "      <td>10349</td>\n",
       "      <td>5.002402e+07</td>\n",
       "      <td>2.068806e-10</td>\n",
       "    </tr>\n",
       "    <tr>\n",
       "      <th>7</th>\n",
       "      <td>[54287278.734, 691281174.278)</td>\n",
       "      <td>5.430456e+07</td>\n",
       "      <td>5305</td>\n",
       "      <td>6.369939e+08</td>\n",
       "      <td>8.328180e-12</td>\n",
       "    </tr>\n",
       "    <tr>\n",
       "      <th>8</th>\n",
       "      <td>[691281174.278, 8802608512.587)</td>\n",
       "      <td>6.913731e+08</td>\n",
       "      <td>2916</td>\n",
       "      <td>8.111327e+09</td>\n",
       "      <td>3.594973e-13</td>\n",
       "    </tr>\n",
       "    <tr>\n",
       "      <th>9</th>\n",
       "      <td>[8802608512.587, 112090303495.95)</td>\n",
       "      <td>8.805158e+09</td>\n",
       "      <td>1506</td>\n",
       "      <td>1.032877e+11</td>\n",
       "      <td>1.458063e-14</td>\n",
       "    </tr>\n",
       "    <tr>\n",
       "      <th>10</th>\n",
       "      <td>[112090303495.95, 1427331014420.103)</td>\n",
       "      <td>1.123297e+11</td>\n",
       "      <td>846</td>\n",
       "      <td>1.315241e+12</td>\n",
       "      <td>6.432283e-16</td>\n",
       "    </tr>\n",
       "    <tr>\n",
       "      <th>11</th>\n",
       "      <td>[1427331014420.103, 18175290468359.96)</td>\n",
       "      <td>1.431954e+12</td>\n",
       "      <td>431</td>\n",
       "      <td>1.674796e+13</td>\n",
       "      <td>2.573448e-17</td>\n",
       "    </tr>\n",
       "    <tr>\n",
       "      <th>12</th>\n",
       "      <td>[18175290468359.96, 231439785355935.06)</td>\n",
       "      <td>1.852354e+13</td>\n",
       "      <td>252</td>\n",
       "      <td>2.132645e+14</td>\n",
       "      <td>1.181631e-18</td>\n",
       "    </tr>\n",
       "    <tr>\n",
       "      <th>13</th>\n",
       "      <td>[231439785355935.06, 2947098663366487.5)</td>\n",
       "      <td>2.377055e+14</td>\n",
       "      <td>122</td>\n",
       "      <td>2.715659e+15</td>\n",
       "      <td>4.492464e-20</td>\n",
       "    </tr>\n",
       "    <tr>\n",
       "      <th>14</th>\n",
       "      <td>[2947098663366487.5, 3.752764684887316e+16)</td>\n",
       "      <td>3.219884e+15</td>\n",
       "      <td>60</td>\n",
       "      <td>3.458055e+16</td>\n",
       "      <td>1.735079e-21</td>\n",
       "    </tr>\n",
       "    <tr>\n",
       "      <th>15</th>\n",
       "      <td>[3.752764684887316e+16, 4.7786804545084454e+17)</td>\n",
       "      <td>3.774627e+16</td>\n",
       "      <td>40</td>\n",
       "      <td>4.403404e+17</td>\n",
       "      <td>9.083881e-23</td>\n",
       "    </tr>\n",
       "    <tr>\n",
       "      <th>16</th>\n",
       "      <td>[4.7786804545084454e+17, 6.085056965671891e+18)</td>\n",
       "      <td>4.997869e+17</td>\n",
       "      <td>25</td>\n",
       "      <td>5.607189e+18</td>\n",
       "      <td>4.458562e-24</td>\n",
       "    </tr>\n",
       "    <tr>\n",
       "      <th>17</th>\n",
       "      <td>[6.085056965671891e+18, 7.748565451899598e+19)</td>\n",
       "      <td>7.369322e+18</td>\n",
       "      <td>9</td>\n",
       "      <td>7.140060e+19</td>\n",
       "      <td>1.260494e-25</td>\n",
       "    </tr>\n",
       "    <tr>\n",
       "      <th>18</th>\n",
       "      <td>[7.748565451899598e+19, 9.866837221258871e+20)</td>\n",
       "      <td>2.675090e+20</td>\n",
       "      <td>6</td>\n",
       "      <td>9.091981e+20</td>\n",
       "      <td>6.599222e-27</td>\n",
       "    </tr>\n",
       "    <tr>\n",
       "      <th>19</th>\n",
       "      <td>[9.866837221258871e+20, 1.2564193637540043e+22)</td>\n",
       "      <td>3.648251e+21</td>\n",
       "      <td>1</td>\n",
       "      <td>1.157751e+22</td>\n",
       "      <td>8.637436e-29</td>\n",
       "    </tr>\n",
       "  </tbody>\n",
       "</table>\n",
       "</div>"
      ],
      "text/plain": [
       "                                                bin         X_min   X_cnt  \\\n",
       "0                                     [1.0, 12.734)  1.000003e+00  470546   \n",
       "1                                 [12.734, 162.149)  1.273386e+01  248737   \n",
       "2                               [162.149, 2064.769)  1.621504e+02  132242   \n",
       "3                             [2064.769, 26292.271)  2.064926e+03   69905   \n",
       "4                           [26292.271, 334799.466)  2.629243e+04   36996   \n",
       "5                         [334799.466, 4263256.027)  3.349163e+05   19705   \n",
       "6                       [4263256.027, 54287278.734)  4.263875e+06   10349   \n",
       "7                     [54287278.734, 691281174.278)  5.430456e+07    5305   \n",
       "8                   [691281174.278, 8802608512.587)  6.913731e+08    2916   \n",
       "9                 [8802608512.587, 112090303495.95)  8.805158e+09    1506   \n",
       "10             [112090303495.95, 1427331014420.103)  1.123297e+11     846   \n",
       "11           [1427331014420.103, 18175290468359.96)  1.431954e+12     431   \n",
       "12          [18175290468359.96, 231439785355935.06)  1.852354e+13     252   \n",
       "13         [231439785355935.06, 2947098663366487.5)  2.377055e+14     122   \n",
       "14      [2947098663366487.5, 3.752764684887316e+16)  3.219884e+15      60   \n",
       "15  [3.752764684887316e+16, 4.7786804545084454e+17)  3.774627e+16      40   \n",
       "16  [4.7786804545084454e+17, 6.085056965671891e+18)  4.997869e+17      25   \n",
       "17   [6.085056965671891e+18, 7.748565451899598e+19)  7.369322e+18       9   \n",
       "18   [7.748565451899598e+19, 9.866837221258871e+20)  2.675090e+20       6   \n",
       "19  [9.866837221258871e+20, 1.2564193637540043e+22)  3.648251e+21       1   \n",
       "\n",
       "      bin_length        X_prob  \n",
       "0   1.173400e+01  4.010107e-02  \n",
       "1   1.494150e+02  1.664739e-03  \n",
       "2   1.902620e+03  6.950521e-05  \n",
       "3   2.422750e+04  2.885357e-06  \n",
       "4   3.085072e+05  1.199194e-07  \n",
       "5   3.928457e+06  5.015965e-09  \n",
       "6   5.002402e+07  2.068806e-10  \n",
       "7   6.369939e+08  8.328180e-12  \n",
       "8   8.111327e+09  3.594973e-13  \n",
       "9   1.032877e+11  1.458063e-14  \n",
       "10  1.315241e+12  6.432283e-16  \n",
       "11  1.674796e+13  2.573448e-17  \n",
       "12  2.132645e+14  1.181631e-18  \n",
       "13  2.715659e+15  4.492464e-20  \n",
       "14  3.458055e+16  1.735079e-21  \n",
       "15  4.403404e+17  9.083881e-23  \n",
       "16  5.607189e+18  4.458562e-24  \n",
       "17  7.140060e+19  1.260494e-25  \n",
       "18  9.091981e+20  6.599222e-27  \n",
       "19  1.157751e+22  8.637436e-29  "
      ]
     },
     "execution_count": 142,
     "metadata": {},
     "output_type": "execute_result"
    }
   ],
   "source": [
    "X_pd"
   ]
  },
  {
   "cell_type": "code",
   "execution_count": 70,
   "id": "eb2d7fa3-0989-4000-9eac-be0b1c27b02c",
   "metadata": {
    "tags": []
   },
   "outputs": [
    {
     "data": {
      "text/plain": [
       "Text(0.5, 1.0, 'Pareto Distribution by inverse-CDF simulation')"
      ]
     },
     "execution_count": 70,
     "metadata": {},
     "output_type": "execute_result"
    },
    {
     "data": {
      "image/png": "[encoded data removed]",
      "text/plain": [
       "<Figure size 720x504 with 1 Axes>"
      ]
     },
     "metadata": {
      "needs_background": "light"
     },
     "output_type": "display_data"
    }
   ],
   "source": [
    "plt.figure(figsize = (10,7))\n",
    "plt.loglog(X_pd.X_min, X_pd.X_cnt, marker = 'o', color = 'g', label = 'simulation')\n",
    "plt.title('Pareto Distribution by inverse-CDF simulation')"
   ]
  },
  {
   "cell_type": "code",
   "execution_count": 143,
   "id": "e66879c4-afdb-4de6-a378-7ff6adbdf469",
   "metadata": {
    "tags": []
   },
   "outputs": [
    {
     "data": {
      "text/plain": [
       "Text(0.5, 1.0, 'Pareto Distribution')"
      ]
     },
     "execution_count": 143,
     "metadata": {},
     "output_type": "execute_result"
    },
    {
     "data": {
      "image/png": "[encoded data removed]",
      "text/plain": [
       "<Figure size 720x504 with 1 Axes>"
      ]
     },
     "metadata": {
      "needs_background": "light"
     },
     "output_type": "display_data"
    }
   ],
   "source": [
    "plt.figure(figsize = (10,7))\n",
    "plt.loglog(X_pd.X_min, X_pd.X_prob, marker = 'o', color = 'g', label = 'simulation')\n",
    "plt.loglog(x, y,  marker = '.', color = 'r', label = 'theoretical')\n",
    "plt.legend()\n",
    "plt.title('Pareto Distribution')\n",
    "\n"
   ]
  },
  {
   "cell_type": "markdown",
   "id": "57a62d18-f24a-48f4-b994-e17dda6dd070",
   "metadata": {},
   "source": [
    "#### Hypersoft configuration model"
   ]
  },
  {
   "cell_type": "code",
   "execution_count": 109,
   "id": "072be394-ba2b-4708-b9b3-6f69bbe5614f",
   "metadata": {},
   "outputs": [],
   "source": [
    "\n",
    "\n",
    "def hs_config(n, avg_k, gamma):    \n",
    "    \n",
    "    ## Hidden variable assignment\n",
    "    alpha = gamma - 1\n",
    "    x_0 = (alpha - 1)*avg_k/alpha\n",
    "    \n",
    "    x_hidden = np.zeros(n)\n",
    "    for node in range(n-1):\n",
    "        x_hidden[node] = x_0/((1 - rnd.uniform(0, 1))**(1/alpha))\n",
    "        \n",
    "    ## Creating edges\n",
    "    E = []  \n",
    "    d = np.zeros(n)\n",
    "\n",
    "    for i in range(n-1):\n",
    "        for j in range(n-1):\n",
    "            pcutoff = 1/(1+(avg_k*n)/(x_hidden[i]*x_hidden[j]))\n",
    "            pconnect = rnd.uniform(0, 1)\n",
    "            if (pconnect < pcutoff) & (int(i) < int(j)):\n",
    "                E.append((int(i), int(j)))\n",
    "                d[int(i)] += 1\n",
    "                d[int(j)] += 1\n",
    "    return E, d\n",
    "    \n",
    "    "
   ]
  },
  {
   "cell_type": "code",
   "execution_count": 58,
   "id": "5f788c46-28cf-4266-a507-a3e8610252e3",
   "metadata": {},
   "outputs": [],
   "source": [
    "E, d = hs_config(15, 3, 0.091)"
   ]
  },
  {
   "cell_type": "code",
   "execution_count": 60,
   "id": "34ed3fde-59fa-4294-afdd-afa740591470",
   "metadata": {},
   "outputs": [
    {
     "data": {
      "image/png": "[encoded data removed]",
      "text/plain": [
       "<Figure size 288x288 with 1 Axes>"
      ]
     },
     "metadata": {},
     "output_type": "display_data"
    }
   ],
   "source": [
    "e, d = hs_config(15, 3, 0.2)\n",
    "G2 = nx.Graph()\n",
    "G2.add_edges_from(e)\n",
    "fig = plt.figure(figsize=(4,4))\n",
    "nx.draw_spring(G2, node_size=40)"
   ]
  },
  {
   "cell_type": "markdown",
   "id": "cc9e8ff5-ccf0-4547-a849-6433573fdb03",
   "metadata": {},
   "source": [
    "#### Hypercanonical ER model"
   ]
  },
  {
   "cell_type": "code",
   "execution_count": 38,
   "id": "0d560ec0-5ef5-443b-a56f-3d68f3836a5c",
   "metadata": {},
   "outputs": [],
   "source": [
    "\n",
    "def hc_ER(n, avg_k, gamma):\n",
    "    alpha = gamma - 1\n",
    "    \n",
    "    x_0 = (alpha - 1)*avg_k/alpha\n",
    "    K = x_0/((1 - rnd.uniform(0, 1))**(1/alpha))\n",
    "    p = min(1, K/n)\n",
    "    E = []  \n",
    "    d = np.zeros(n)\n",
    "\n",
    "\n",
    "    for i in range(n-1):\n",
    "        for j in range(n-1):\n",
    "            pcutoff = p\n",
    "            pconnect = np.random.rand()\n",
    "            if (pconnect < pcutoff) & (int(i) < int(j)):\n",
    "                E.append((int(i), int(j)))\n",
    "                d[int(i)] += 1\n",
    "                d[int(j)] += 1\n",
    "    d = d[d>0]\n",
    "    return E, d\n"
   ]
  },
  {
   "cell_type": "code",
   "execution_count": 33,
   "id": "58d000b7-110e-485a-8af4-8ea9155cf0af",
   "metadata": {},
   "outputs": [
    {
     "data": {
      "image/png": "[encoded data removed]",
      "text/plain": [
       "<Figure size 288x288 with 1 Axes>"
      ]
     },
     "metadata": {},
     "output_type": "display_data"
    }
   ],
   "source": [
    "E, d = hc_ER(10, 3, 0.2)\n",
    "G = nx.Graph()\n",
    "G.add_edges_from(E)\n",
    "fig = plt.figure(figsize=(4,4))\n",
    "nx.draw_spring(G, node_size=40)\n"
   ]
  },
  {
   "cell_type": "code",
   "execution_count": 61,
   "id": "8c45c092-936d-4da7-9880-8309fa3b23e8",
   "metadata": {
    "collapsed": true,
    "jupyter": {
     "outputs_hidden": true
    },
    "tags": []
   },
   "outputs": [
    {
     "name": "stdout",
     "output_type": "stream",
     "text": [
      "0\n",
      "1\n",
      "2\n",
      "3\n",
      "4\n",
      "5\n",
      "6\n",
      "7\n",
      "8\n",
      "9\n"
     ]
    }
   ],
   "source": [
    "### 10 HSCM graphs\n",
    "\n",
    "hs_config_edge_lists = {}\n",
    "hs_config_degrees = {}\n",
    "for i in range(10):\n",
    "    e, d = hs_config(1000, 10, 3)\n",
    "    hs_config_edge_lists[i] = e\n",
    "    hs_config_degrees[i] = d\n",
    "    print(i)\n",
    "    "
   ]
  },
  {
   "cell_type": "code",
   "execution_count": 112,
   "id": "b683e4ab-aae7-4592-a060-8263d97c6787",
   "metadata": {
    "collapsed": true,
    "jupyter": {
     "outputs_hidden": true
    },
    "tags": []
   },
   "outputs": [
    {
     "name": "stdout",
     "output_type": "stream",
     "text": [
      "0\n",
      "1000\n",
      "2000\n",
      "3000\n",
      "4000\n",
      "5000\n",
      "6000\n",
      "7000\n",
      "8000\n",
      "9000\n"
     ]
    }
   ],
   "source": [
    "#### 10^4 HER graphs\n",
    "\n",
    "hc_er_edge_lists = {}\n",
    "hc_er_degrees = {}\n",
    "for i in range(10**4):\n",
    "    e, d = hc_ER(1000, 10, 3)\n",
    "    hc_er_edge_lists[i] = e\n",
    "    hc_er_degrees[i] = d\n",
    "    if i % 1000 == 0:\n",
    "        print(i)\n",
    "    "
   ]
  },
  {
   "cell_type": "code",
   "execution_count": 113,
   "id": "d7cc2ee3-0443-422f-8f5f-69d3ae95eecd",
   "metadata": {},
   "outputs": [
    {
     "name": "stderr",
     "output_type": "stream",
     "text": [
      "/var/folders/3x/2jygx_494rq5s1llg74g9nhw0000gn/T/ipykernel_26881/621303049.py:1: VisibleDeprecationWarning: Creating an ndarray from ragged nested sequences (which is a list-or-tuple of lists-or-tuples-or ndarrays with different lengths or shapes) is deprecated. If you meant to do this, you must specify 'dtype=object' when creating the ndarray.\n",
      "  hs_config_degrees_list = np.concatenate(np.array([v for v in hs_config_degrees.values()]))\n",
      "/var/folders/3x/2jygx_494rq5s1llg74g9nhw0000gn/T/ipykernel_26881/621303049.py:3: VisibleDeprecationWarning: Creating an ndarray from ragged nested sequences (which is a list-or-tuple of lists-or-tuples-or ndarrays with different lengths or shapes) is deprecated. If you meant to do this, you must specify 'dtype=object' when creating the ndarray.\n",
      "  hc_er_degrees_list = np.concatenate(np.array([v for v in hc_er_degrees.values()]))\n"
     ]
    },
    {
     "data": {
      "text/plain": [
       "array([10.,  9., 12., ..., 14.,  7., 11.])"
      ]
     },
     "execution_count": 113,
     "metadata": {},
     "output_type": "execute_result"
    }
   ],
   "source": [
    "hs_config_degrees_list = np.concatenate(np.array([v for v in hs_config_degrees.values()]))\n",
    "hs_config_degrees_list\n",
    "hc_er_degrees_list = np.concatenate(np.array([v for v in hc_er_degrees.values()]))\n",
    "hc_er_degrees_list"
   ]
  },
  {
   "cell_type": "code",
   "execution_count": 126,
   "id": "2d4bb95a-0fb2-4a67-a10d-d3fccb787051",
   "metadata": {
    "collapsed": true,
    "jupyter": {
     "outputs_hidden": true
    },
    "tags": []
   },
   "outputs": [
    {
     "name": "stdout",
     "output_type": "stream",
     "text": [
      "0.3010299956639812\n",
      "2.6541765418779604\n",
      "9846\n"
     ]
    },
    {
     "data": {
      "text/html": [
       "<div>\n",
       "<style scoped>\n",
       "    .dataframe tbody tr th:only-of-type {\n",
       "        vertical-align: middle;\n",
       "    }\n",
       "\n",
       "    .dataframe tbody tr th {\n",
       "        vertical-align: top;\n",
       "    }\n",
       "\n",
       "    .dataframe thead th {\n",
       "        text-align: right;\n",
       "    }\n",
       "</style>\n",
       "<table border=\"1\" class=\"dataframe\">\n",
       "  <thead>\n",
       "    <tr style=\"text-align: right;\">\n",
       "      <th></th>\n",
       "      <th>bin</th>\n",
       "      <th>X_min</th>\n",
       "      <th>X_cnt</th>\n",
       "      <th>bin_length</th>\n",
       "      <th>X_prob</th>\n",
       "    </tr>\n",
       "  </thead>\n",
       "  <tbody>\n",
       "    <tr>\n",
       "      <th>0</th>\n",
       "      <td>[2.0, 2.622)</td>\n",
       "      <td>2.0</td>\n",
       "      <td>287</td>\n",
       "      <td>0.622</td>\n",
       "      <td>0.046863</td>\n",
       "    </tr>\n",
       "    <tr>\n",
       "      <th>1</th>\n",
       "      <td>[2.622, 3.438)</td>\n",
       "      <td>3.0</td>\n",
       "      <td>587</td>\n",
       "      <td>0.816</td>\n",
       "      <td>0.073061</td>\n",
       "    </tr>\n",
       "    <tr>\n",
       "      <th>2</th>\n",
       "      <td>[3.438, 4.508)</td>\n",
       "      <td>4.0</td>\n",
       "      <td>863</td>\n",
       "      <td>1.070</td>\n",
       "      <td>0.081916</td>\n",
       "    </tr>\n",
       "    <tr>\n",
       "      <th>3</th>\n",
       "      <td>[4.508, 5.911)</td>\n",
       "      <td>5.0</td>\n",
       "      <td>1018</td>\n",
       "      <td>1.403</td>\n",
       "      <td>0.073694</td>\n",
       "    </tr>\n",
       "    <tr>\n",
       "      <th>4</th>\n",
       "      <td>[5.911, 7.75)</td>\n",
       "      <td>6.0</td>\n",
       "      <td>2190</td>\n",
       "      <td>1.839</td>\n",
       "      <td>0.120949</td>\n",
       "    </tr>\n",
       "    <tr>\n",
       "      <th>5</th>\n",
       "      <td>[7.75, 10.162)</td>\n",
       "      <td>8.0</td>\n",
       "      <td>2251</td>\n",
       "      <td>2.412</td>\n",
       "      <td>0.094785</td>\n",
       "    </tr>\n",
       "    <tr>\n",
       "      <th>6</th>\n",
       "      <td>[10.162, 13.324)</td>\n",
       "      <td>11.0</td>\n",
       "      <td>1092</td>\n",
       "      <td>3.162</td>\n",
       "      <td>0.035075</td>\n",
       "    </tr>\n",
       "    <tr>\n",
       "      <th>7</th>\n",
       "      <td>[13.324, 17.47)</td>\n",
       "      <td>14.0</td>\n",
       "      <td>646</td>\n",
       "      <td>4.146</td>\n",
       "      <td>0.015825</td>\n",
       "    </tr>\n",
       "    <tr>\n",
       "      <th>8</th>\n",
       "      <td>[17.47, 22.906)</td>\n",
       "      <td>18.0</td>\n",
       "      <td>352</td>\n",
       "      <td>5.436</td>\n",
       "      <td>0.006577</td>\n",
       "    </tr>\n",
       "    <tr>\n",
       "      <th>9</th>\n",
       "      <td>[22.906, 30.033)</td>\n",
       "      <td>23.0</td>\n",
       "      <td>258</td>\n",
       "      <td>7.127</td>\n",
       "      <td>0.003677</td>\n",
       "    </tr>\n",
       "    <tr>\n",
       "      <th>10</th>\n",
       "      <td>[30.033, 39.379)</td>\n",
       "      <td>31.0</td>\n",
       "      <td>129</td>\n",
       "      <td>9.346</td>\n",
       "      <td>0.001402</td>\n",
       "    </tr>\n",
       "    <tr>\n",
       "      <th>11</th>\n",
       "      <td>[39.379, 51.632)</td>\n",
       "      <td>40.0</td>\n",
       "      <td>81</td>\n",
       "      <td>12.253</td>\n",
       "      <td>0.000671</td>\n",
       "    </tr>\n",
       "    <tr>\n",
       "      <th>12</th>\n",
       "      <td>[51.632, 67.698)</td>\n",
       "      <td>52.0</td>\n",
       "      <td>56</td>\n",
       "      <td>16.066</td>\n",
       "      <td>0.000354</td>\n",
       "    </tr>\n",
       "    <tr>\n",
       "      <th>13</th>\n",
       "      <td>[67.698, 88.763)</td>\n",
       "      <td>68.0</td>\n",
       "      <td>20</td>\n",
       "      <td>21.065</td>\n",
       "      <td>0.000096</td>\n",
       "    </tr>\n",
       "    <tr>\n",
       "      <th>14</th>\n",
       "      <td>[88.763, 116.383)</td>\n",
       "      <td>90.0</td>\n",
       "      <td>8</td>\n",
       "      <td>27.620</td>\n",
       "      <td>0.000029</td>\n",
       "    </tr>\n",
       "    <tr>\n",
       "      <th>15</th>\n",
       "      <td>[116.383, 152.597)</td>\n",
       "      <td>123.0</td>\n",
       "      <td>3</td>\n",
       "      <td>36.214</td>\n",
       "      <td>0.000008</td>\n",
       "    </tr>\n",
       "    <tr>\n",
       "      <th>16</th>\n",
       "      <td>[152.597, 200.08)</td>\n",
       "      <td>166.0</td>\n",
       "      <td>3</td>\n",
       "      <td>47.483</td>\n",
       "      <td>0.000006</td>\n",
       "    </tr>\n",
       "    <tr>\n",
       "      <th>17</th>\n",
       "      <td>[200.08, 262.338)</td>\n",
       "      <td>227.0</td>\n",
       "      <td>1</td>\n",
       "      <td>62.258</td>\n",
       "      <td>0.000002</td>\n",
       "    </tr>\n",
       "    <tr>\n",
       "      <th>18</th>\n",
       "      <td>[262.338, 343.969)</td>\n",
       "      <td>NaN</td>\n",
       "      <td>0</td>\n",
       "      <td>81.631</td>\n",
       "      <td>0.000000</td>\n",
       "    </tr>\n",
       "    <tr>\n",
       "      <th>19</th>\n",
       "      <td>[343.969, 451.0)</td>\n",
       "      <td>NaN</td>\n",
       "      <td>0</td>\n",
       "      <td>107.031</td>\n",
       "      <td>0.000000</td>\n",
       "    </tr>\n",
       "  </tbody>\n",
       "</table>\n",
       "</div>"
      ],
      "text/plain": [
       "                   bin  X_min  X_cnt  bin_length    X_prob\n",
       "0         [2.0, 2.622)    2.0    287       0.622  0.046863\n",
       "1       [2.622, 3.438)    3.0    587       0.816  0.073061\n",
       "2       [3.438, 4.508)    4.0    863       1.070  0.081916\n",
       "3       [4.508, 5.911)    5.0   1018       1.403  0.073694\n",
       "4        [5.911, 7.75)    6.0   2190       1.839  0.120949\n",
       "5       [7.75, 10.162)    8.0   2251       2.412  0.094785\n",
       "6     [10.162, 13.324)   11.0   1092       3.162  0.035075\n",
       "7      [13.324, 17.47)   14.0    646       4.146  0.015825\n",
       "8      [17.47, 22.906)   18.0    352       5.436  0.006577\n",
       "9     [22.906, 30.033)   23.0    258       7.127  0.003677\n",
       "10    [30.033, 39.379)   31.0    129       9.346  0.001402\n",
       "11    [39.379, 51.632)   40.0     81      12.253  0.000671\n",
       "12    [51.632, 67.698)   52.0     56      16.066  0.000354\n",
       "13    [67.698, 88.763)   68.0     20      21.065  0.000096\n",
       "14   [88.763, 116.383)   90.0      8      27.620  0.000029\n",
       "15  [116.383, 152.597)  123.0      3      36.214  0.000008\n",
       "16   [152.597, 200.08)  166.0      3      47.483  0.000006\n",
       "17   [200.08, 262.338)  227.0      1      62.258  0.000002\n",
       "18  [262.338, 343.969)    NaN      0      81.631  0.000000\n",
       "19    [343.969, 451.0)    NaN      0     107.031  0.000000"
      ]
     },
     "execution_count": 126,
     "metadata": {},
     "output_type": "execute_result"
    }
   ],
   "source": [
    "hscm_deg_binned = logbin_fx(hs_config_degrees_list, 20)\n",
    "hscm_deg_binned"
   ]
  },
  {
   "cell_type": "code",
   "execution_count": 127,
   "id": "74d756d6-23f5-4a98-95ed-47d64e88876b",
   "metadata": {
    "collapsed": true,
    "jupyter": {
     "outputs_hidden": true
    },
    "tags": []
   },
   "outputs": [
    {
     "name": "stdout",
     "output_type": "stream",
     "text": [
      "0.3010299956639812\n",
      "2.931457870689005\n",
      "9874219\n"
     ]
    },
    {
     "data": {
      "text/html": [
       "<div>\n",
       "<style scoped>\n",
       "    .dataframe tbody tr th:only-of-type {\n",
       "        vertical-align: middle;\n",
       "    }\n",
       "\n",
       "    .dataframe tbody tr th {\n",
       "        vertical-align: top;\n",
       "    }\n",
       "\n",
       "    .dataframe thead th {\n",
       "        text-align: right;\n",
       "    }\n",
       "</style>\n",
       "<table border=\"1\" class=\"dataframe\">\n",
       "  <thead>\n",
       "    <tr style=\"text-align: right;\">\n",
       "      <th></th>\n",
       "      <th>bin</th>\n",
       "      <th>X_min</th>\n",
       "      <th>X_cnt</th>\n",
       "      <th>bin_length</th>\n",
       "      <th>X_prob</th>\n",
       "    </tr>\n",
       "  </thead>\n",
       "  <tbody>\n",
       "    <tr>\n",
       "      <th>0</th>\n",
       "      <td>[2.0, 2.707)</td>\n",
       "      <td>2.0</td>\n",
       "      <td>285160</td>\n",
       "      <td>0.707</td>\n",
       "      <td>4.084759e-02</td>\n",
       "    </tr>\n",
       "    <tr>\n",
       "      <th>1</th>\n",
       "      <td>[2.707, 3.665)</td>\n",
       "      <td>3.0</td>\n",
       "      <td>558096</td>\n",
       "      <td>0.958</td>\n",
       "      <td>5.899846e-02</td>\n",
       "    </tr>\n",
       "    <tr>\n",
       "      <th>2</th>\n",
       "      <td>[3.665, 4.961)</td>\n",
       "      <td>4.0</td>\n",
       "      <td>838316</td>\n",
       "      <td>1.296</td>\n",
       "      <td>6.550885e-02</td>\n",
       "    </tr>\n",
       "    <tr>\n",
       "      <th>3</th>\n",
       "      <td>[4.961, 6.716)</td>\n",
       "      <td>5.0</td>\n",
       "      <td>2132972</td>\n",
       "      <td>1.755</td>\n",
       "      <td>1.230850e-01</td>\n",
       "    </tr>\n",
       "    <tr>\n",
       "      <th>4</th>\n",
       "      <td>[6.716, 9.092)</td>\n",
       "      <td>7.0</td>\n",
       "      <td>2702416</td>\n",
       "      <td>2.376</td>\n",
       "      <td>1.151869e-01</td>\n",
       "    </tr>\n",
       "    <tr>\n",
       "      <th>5</th>\n",
       "      <td>[9.092, 12.307)</td>\n",
       "      <td>10.0</td>\n",
       "      <td>1430719</td>\n",
       "      <td>3.215</td>\n",
       "      <td>4.506824e-02</td>\n",
       "    </tr>\n",
       "    <tr>\n",
       "      <th>6</th>\n",
       "      <td>[12.307, 16.66)</td>\n",
       "      <td>13.0</td>\n",
       "      <td>853149</td>\n",
       "      <td>4.353</td>\n",
       "      <td>1.984876e-02</td>\n",
       "    </tr>\n",
       "    <tr>\n",
       "      <th>7</th>\n",
       "      <td>[16.66, 22.553)</td>\n",
       "      <td>17.0</td>\n",
       "      <td>509851</td>\n",
       "      <td>5.893</td>\n",
       "      <td>8.762017e-03</td>\n",
       "    </tr>\n",
       "    <tr>\n",
       "      <th>8</th>\n",
       "      <td>[22.553, 30.53)</td>\n",
       "      <td>23.0</td>\n",
       "      <td>254772</td>\n",
       "      <td>7.977</td>\n",
       "      <td>3.234516e-03</td>\n",
       "    </tr>\n",
       "    <tr>\n",
       "      <th>9</th>\n",
       "      <td>[30.53, 41.328)</td>\n",
       "      <td>31.0</td>\n",
       "      <td>139490</td>\n",
       "      <td>10.798</td>\n",
       "      <td>1.308269e-03</td>\n",
       "    </tr>\n",
       "    <tr>\n",
       "      <th>10</th>\n",
       "      <td>[41.328, 55.946)</td>\n",
       "      <td>42.0</td>\n",
       "      <td>80707</td>\n",
       "      <td>14.618</td>\n",
       "      <td>5.591399e-04</td>\n",
       "    </tr>\n",
       "    <tr>\n",
       "      <th>11</th>\n",
       "      <td>[55.946, 75.733)</td>\n",
       "      <td>56.0</td>\n",
       "      <td>40609</td>\n",
       "      <td>19.787</td>\n",
       "      <td>2.078450e-04</td>\n",
       "    </tr>\n",
       "    <tr>\n",
       "      <th>12</th>\n",
       "      <td>[75.733, 102.52)</td>\n",
       "      <td>76.0</td>\n",
       "      <td>20545</td>\n",
       "      <td>26.787</td>\n",
       "      <td>7.767465e-05</td>\n",
       "    </tr>\n",
       "    <tr>\n",
       "      <th>13</th>\n",
       "      <td>[102.52, 138.781)</td>\n",
       "      <td>103.0</td>\n",
       "      <td>9803</td>\n",
       "      <td>36.261</td>\n",
       "      <td>2.737893e-05</td>\n",
       "    </tr>\n",
       "    <tr>\n",
       "      <th>14</th>\n",
       "      <td>[138.781, 187.867)</td>\n",
       "      <td>139.0</td>\n",
       "      <td>5701</td>\n",
       "      <td>49.086</td>\n",
       "      <td>1.176226e-05</td>\n",
       "    </tr>\n",
       "    <tr>\n",
       "      <th>15</th>\n",
       "      <td>[187.867, 254.315)</td>\n",
       "      <td>188.0</td>\n",
       "      <td>4916</td>\n",
       "      <td>66.448</td>\n",
       "      <td>7.492508e-06</td>\n",
       "    </tr>\n",
       "    <tr>\n",
       "      <th>16</th>\n",
       "      <td>[254.315, 344.266)</td>\n",
       "      <td>255.0</td>\n",
       "      <td>2800</td>\n",
       "      <td>89.951</td>\n",
       "      <td>3.152458e-06</td>\n",
       "    </tr>\n",
       "    <tr>\n",
       "      <th>17</th>\n",
       "      <td>[344.266, 466.031)</td>\n",
       "      <td>345.0</td>\n",
       "      <td>1197</td>\n",
       "      <td>121.765</td>\n",
       "      <td>9.955634e-07</td>\n",
       "    </tr>\n",
       "    <tr>\n",
       "      <th>18</th>\n",
       "      <td>[466.031, 630.865)</td>\n",
       "      <td>467.0</td>\n",
       "      <td>1030</td>\n",
       "      <td>164.834</td>\n",
       "      <td>6.328309e-07</td>\n",
       "    </tr>\n",
       "    <tr>\n",
       "      <th>19</th>\n",
       "      <td>[630.865, 854.0)</td>\n",
       "      <td>631.0</td>\n",
       "      <td>1969</td>\n",
       "      <td>223.135</td>\n",
       "      <td>8.936661e-07</td>\n",
       "    </tr>\n",
       "  </tbody>\n",
       "</table>\n",
       "</div>"
      ],
      "text/plain": [
       "                   bin  X_min    X_cnt  bin_length        X_prob\n",
       "0         [2.0, 2.707)    2.0   285160       0.707  4.084759e-02\n",
       "1       [2.707, 3.665)    3.0   558096       0.958  5.899846e-02\n",
       "2       [3.665, 4.961)    4.0   838316       1.296  6.550885e-02\n",
       "3       [4.961, 6.716)    5.0  2132972       1.755  1.230850e-01\n",
       "4       [6.716, 9.092)    7.0  2702416       2.376  1.151869e-01\n",
       "5      [9.092, 12.307)   10.0  1430719       3.215  4.506824e-02\n",
       "6      [12.307, 16.66)   13.0   853149       4.353  1.984876e-02\n",
       "7      [16.66, 22.553)   17.0   509851       5.893  8.762017e-03\n",
       "8      [22.553, 30.53)   23.0   254772       7.977  3.234516e-03\n",
       "9      [30.53, 41.328)   31.0   139490      10.798  1.308269e-03\n",
       "10    [41.328, 55.946)   42.0    80707      14.618  5.591399e-04\n",
       "11    [55.946, 75.733)   56.0    40609      19.787  2.078450e-04\n",
       "12    [75.733, 102.52)   76.0    20545      26.787  7.767465e-05\n",
       "13   [102.52, 138.781)  103.0     9803      36.261  2.737893e-05\n",
       "14  [138.781, 187.867)  139.0     5701      49.086  1.176226e-05\n",
       "15  [187.867, 254.315)  188.0     4916      66.448  7.492508e-06\n",
       "16  [254.315, 344.266)  255.0     2800      89.951  3.152458e-06\n",
       "17  [344.266, 466.031)  345.0     1197     121.765  9.955634e-07\n",
       "18  [466.031, 630.865)  467.0     1030     164.834  6.328309e-07\n",
       "19    [630.865, 854.0)  631.0     1969     223.135  8.936661e-07"
      ]
     },
     "execution_count": 127,
     "metadata": {},
     "output_type": "execute_result"
    }
   ],
   "source": [
    "hcer_deg_binned = logbin_fx(hc_er_degrees_list, 20)\n",
    "hcer_deg_binned"
   ]
  },
  {
   "cell_type": "code",
   "execution_count": 131,
   "id": "5a6b0807-fb32-4394-be1b-469e4840167b",
   "metadata": {
    "tags": []
   },
   "outputs": [
    {
     "data": {
      "image/png": "[encoded data removed]",
      "text/plain": [
       "<Figure size 720x504 with 1 Axes>"
      ]
     },
     "metadata": {
      "needs_background": "light"
     },
     "output_type": "display_data"
    },
    {
     "data": {
      "text/plain": [
       "<Figure size 432x288 with 0 Axes>"
      ]
     },
     "metadata": {},
     "output_type": "display_data"
    }
   ],
   "source": [
    "plt.figure(figsize = (10,7))\n",
    "plt.loglog(hscm_deg_binned.X_min, hscm_deg_binned.X_prob, marker = 'o', color = 'r', label = 'Hypersoft configuration model')\n",
    "\n",
    "plt.title('Hypersoft configuration model')\n",
    "plt.show()\n",
    "plt.savefig('hscm.png')\n"
   ]
  },
  {
   "cell_type": "code",
   "execution_count": 132,
   "id": "a5504044-10d8-42e4-ae53-1e887f55704f",
   "metadata": {
    "tags": []
   },
   "outputs": [
    {
     "data": {
      "image/png": "[encoded data removed]",
      "text/plain": [
       "<Figure size 720x504 with 1 Axes>"
      ]
     },
     "metadata": {
      "needs_background": "light"
     },
     "output_type": "display_data"
    }
   ],
   "source": [
    "\n",
    "plt.figure(figsize = (10,7))\n",
    "plt.loglog(hcer_deg_binned.X_min, hcer_deg_binned.X_prob, marker = 'o', color = 'g', label = 'Hypercanonical ER model')\n",
    "plt.title('Hypercanonical ER model')\n",
    "plt.savefig('her.png')\n",
    "plt.show()\n"
   ]
  },
  {
   "cell_type": "code",
   "execution_count": 133,
   "id": "3b62d0fa-b405-4462-a767-abcee1127ead",
   "metadata": {
    "tags": []
   },
   "outputs": [
    {
     "data": {
      "image/png": "[encoded data removed]",
      "text/plain": [
       "<Figure size 720x504 with 1 Axes>"
      ]
     },
     "metadata": {
      "needs_background": "light"
     },
     "output_type": "display_data"
    }
   ],
   "source": [
    "\n",
    "plt.figure(figsize = (10,7))\n",
    "plt.loglog(hscm_deg_binned.X_min, hscm_deg_binned.X_prob, marker = 'o', color = 'r', label = 'Hypersoft configuration model')\n",
    "plt.loglog(hcer_deg_binned.X_min, hcer_deg_binned.X_prob, marker = 'o', color = 'g', label = 'Hypercanonical ER model')\n",
    "plt.title('Hypercanonical ER model')\n",
    "plt.legend()\n",
    "plt.savefig('hscm_and_her.png')\n",
    "plt.show()\n"
   ]
  },
  {
   "cell_type": "code",
   "execution_count": 178,
   "id": "3a91a2aa-8c42-47d6-bf46-296216c94435",
   "metadata": {},
   "outputs": [
    {
     "name": "stdout",
     "output_type": "stream",
     "text": [
      "0.0\n",
      "2.037426497940624\n",
      "997\n"
     ]
    }
   ],
   "source": [
    "e, d_HSCM = hs_config(1000, 10, 3)\n",
    "e, d_HER = hc_ER(1000, 10, 3)\n",
    "HSCM_binned = logbin_fx(d_HSCM, 20)\n",
    "HER_binned = linbin_fx(d_HER)"
   ]
  },
  {
   "cell_type": "code",
   "execution_count": 180,
   "id": "86c00ec3-2cb3-45cd-8ab4-feef9b1a6e09",
   "metadata": {},
   "outputs": [
    {
     "data": {
      "image/png": "[encoded data removed]",
      "text/plain": [
       "<Figure size 720x504 with 1 Axes>"
      ]
     },
     "metadata": {
      "needs_background": "light"
     },
     "output_type": "display_data"
    }
   ],
   "source": [
    "\n",
    "plt.figure(figsize = (10,7))\n",
    "plt.loglog(HSCM_binned.X_min, HSCM_binned.X_prob, marker = 'o', color = 'r', label = 'Hypersoft configuration model')\n",
    "plt.plot(HER_binned.X_min, HER_binned.X_prob, marker = 'o', color = 'g', label = 'Hypercanonical ER model')\n",
    "plt.title('Compare one sample')\n",
    "plt.legend()\n",
    "\n",
    "plt.show()\n"
   ]
  },
  {
   "cell_type": "code",
   "execution_count": null,
   "id": "2c2dfd13-2fec-49b3-9db1-cac5285673c2",
   "metadata": {},
   "outputs": [],
   "source": []
  }
 ],
 "metadata": {
  "kernelspec": {
   "display_name": "Python 3 (ipykernel)",
   "language": "python",
   "name": "python3"
  },
  "language_info": {
   "codemirror_mode": {
    "name": "ipython",
    "version": 3
   },
   "file_extension": ".py",
   "mimetype": "text/x-python",
   "name": "python",
   "nbconvert_exporter": "python",
   "pygments_lexer": "ipython3",
   "version": "3.9.7"
  }
 },
 "nbformat": 4,
 "nbformat_minor": 5
}
