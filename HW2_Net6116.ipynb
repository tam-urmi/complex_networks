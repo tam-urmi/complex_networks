{
 "cells": [
  {
   "cell_type": "markdown",
   "id": "904aa5b2-6165-473c-ba55-ddbe2b157ce3",
   "metadata": {},
   "source": [
    "### Homework 2\n",
    "Name: Tamanna Urmi, \n",
    "Date: 15 March, 2022"
   ]
  },
  {
   "cell_type": "markdown",
   "id": "77e7c328-761c-4ae2-99e5-dc100481b934",
   "metadata": {},
   "source": [
    "#### Problem 2.1: Log-binning"
   ]
  },
  {
   "cell_type": "code",
   "execution_count": null,
   "id": "fed7b9b5-7d26-40b0-8411-7e08bc599863",
   "metadata": {},
   "outputs": [],
   "source": [
    "dt = (np.random.random(10000)*1000)**3\n",
    "dt.size"
   ]
  },
  {
   "cell_type": "code",
   "execution_count": null,
   "id": "814ec8e5-9a06-4f2e-aa7f-d3acd1833c15",
   "metadata": {},
   "outputs": [],
   "source": [
    "def f(x):\n",
    "    f = x**-2\n",
    "    return f\n"
   ]
  },
  {
   "cell_type": "code",
   "execution_count": null,
   "id": "cdb6e6c3-f4ce-4d29-9ddb-42f767119575",
   "metadata": {},
   "outputs": [],
   "source": [
    "print(min(data))\n",
    "print(max(data))"
   ]
  },
  {
   "cell_type": "code",
   "execution_count": null,
   "id": "2c53cef0-8d6a-4869-8090-f4bd54ec89a8",
   "metadata": {},
   "outputs": [],
   "source": [
    "def logbin_fx(data):\n",
    "    b0 = np.log10(min(data))\n",
    "    bn = np.log10(max(data))\n",
    "    \n",
    "    # create bins from data\n",
    "    bin_edges = np.logspace(b0, bn, num=21, endpoint=True, base=10.0, dtype=None, axis=0)\n",
    "    data_df = pd.DataFrame(data, columns = ['x'])\n",
    "    data_df['y'] = f(data_df['x'])\n",
    "    \n",
    "    # logbin the data\n",
    "    log_binned_dt = pd.cut(data, bin_edges, right=False)\n",
    "    data_df['bin'] = log_binned_dt\n",
    "    \n",
    "    # calculation various X and the Y\n",
    "    log_binned_xy = data_df.groupby(['bin']).agg({'x': [\"min\", \"max\", \"count\", \"mean\"], 'y': [\"mean\"]}).droplevel(axis=1, level=0).reset_index()\n",
    "    log_binned_xy.columns = ['bin', 'X_min', 'X_max', 'X_cnt', 'X_mean', 'Y_mean']\n",
    "    log_binned_xy['X_sqrt_prod'] = log_binned_xy.apply(lambda row: np.sqrt((row['bin'].right)*(row['bin'].left)), axis = 1)\n",
    "    log_binned_xy['Y_prob'] = log_binned_xy.apply(lambda row: row['X_cnt']/(len(data)*(row['bin'].right - row['bin'].left)), axis = 1)\n",
    "\n",
    "    return log_binned_xy\n",
    "    \n"
   ]
  },
  {
   "cell_type": "code",
   "execution_count": null,
   "id": "06ee5d1b-dd25-45e9-8791-8ed867336963",
   "metadata": {},
   "outputs": [],
   "source": [
    "log_df = logbin_fx(dt)\n",
    "log_df"
   ]
  },
  {
   "cell_type": "code",
   "execution_count": null,
   "id": "3b42f62f-51a3-43f2-9414-fa4736198f02",
   "metadata": {},
   "outputs": [],
   "source": [
    "plt.loglog(log_df.X_min, log_df.Y_mean)"
   ]
  },
  {
   "cell_type": "markdown",
   "id": "b65115f7-deb3-4377-8dab-2407f9bf7e21",
   "metadata": {},
   "source": [
    "#### Problem 2.2: Degree-dependent quantities."
   ]
  },
  {
   "cell_type": "code",
   "execution_count": null,
   "id": "82deddb0-70a8-47bc-a23b-81f1ac0a34f8",
   "metadata": {},
   "outputs": [],
   "source": [
    "n = 10**3\n",
    "m = int(comb(10**3, 2)*0.7)\n",
    "seed = 20160\n",
    "\n",
    "G = nx.gnm_random_graph(n, m, seed=seed)\n",
    "\n",
    "nx.draw_spring(G, node_size=10)"
   ]
  },
  {
   "cell_type": "code",
   "execution_count": null,
   "id": "fb2297c6-0557-45fd-a9cb-8afd96ec888a",
   "metadata": {},
   "outputs": [],
   "source": [
    "# Create degree, triangle count\n",
    "degrees = {node:val for (node, val) in G.degree()}\n",
    "triangles = nx.triangles(G)\n",
    "\n",
    "# Create degree-dependent clustering values\n",
    "def locclust(row):\n",
    "    val = row['tri']/comb(row['degree'], 2)\n",
    "    return val\n",
    "\n",
    "# Create knn values\n",
    "knn_val = {}\n",
    "for main_node in G.nodes():\n",
    "    knn = 0\n",
    "    for neigh in G.neighbors(main_node):\n",
    "        knn += degrees[neigh]\n",
    "    knn_val[main_node] = knn/degrees[main_node]\n",
    "\n",
    "\n",
    "# Create dataframe with 4 values\n",
    "dt_df = pd.DataFrame.from_dict(degrees, orient = 'index', columns = ['degree'])\n",
    "dt_df['tri'] = triangles.values()\n",
    "dt_df['loc_clust'] = dt_df.apply(locclust, axis = 1)\n",
    "dt_df['knn_val'] = knn_val.values()\n",
    "dt_df = dt_df.sort_values(by=['degree'])\n",
    "\n",
    "dt_df"
   ]
  },
  {
   "cell_type": "code",
   "execution_count": null,
   "id": "5687b2b6-8d49-4e14-8f52-9365dff03e91",
   "metadata": {},
   "outputs": [],
   "source": [
    "\n",
    "dt_agg_df = dt_df[['degree', 'loc_clust', 'knn_val']].groupby(['degree']).agg({'loc_clust':['mean'], 'knn_val':['mean']}).droplevel(axis=1, level=0).reset_index()\n",
    "dt_agg_df.columns = ['degree', 'c(k)', 'knn(k)']\n",
    "dt_agg_df\n"
   ]
  },
  {
   "cell_type": "code",
   "execution_count": null,
   "id": "14200b51-fe0e-4684-a7da-781eccec933c",
   "metadata": {},
   "outputs": [],
   "source": [
    "def logbin_fx2(df, x_var, y_var):\n",
    "    data = df[x_var].values\n",
    "    b0 = np.log10(min(data))\n",
    "    bn = np.log10(max(data))\n",
    "    \n",
    "    # create bins from data\n",
    "    bin_edges = np.logspace(b0, bn, num=21, endpoint=True, base=10.0, dtype=None, axis=0)\n",
    "#     display(data)\n",
    "    data_df = pd.DataFrame(data, columns = ['x'])\n",
    "    data_df['y'] = df[y_var]\n",
    "    \n",
    "    # logbin the data\n",
    "    log_binned_dt = pd.cut(data, bin_edges, right=False)\n",
    "    data_df['bin'] = log_binned_dt\n",
    "#     display(data_df)\n",
    "    \n",
    "    # calculation various X and the Y\n",
    "    log_binned_xy = data_df.groupby(['bin']).agg({'x': [\"min\", \"max\", \"count\", \"mean\"], 'y': [\"mean\"]}).droplevel(axis=1, level=0).reset_index()\n",
    "    log_binned_xy.columns = ['bin', 'X_min', 'X_max', 'X_cnt', 'X_mean', 'Y_mean']\n",
    "    log_binned_xy['X_sqrt_prod'] = log_binned_xy.apply(lambda row: np.sqrt((row['bin'].right)*(row['bin'].left)), axis = 1)\n",
    "    log_binned_xy['Y_prob'] = log_binned_xy.apply(lambda row: row['X_cnt']/(len(data)*(row['bin'].right - row['bin'].left)), axis = 1)\n",
    "\n",
    "    return log_binned_xy\n",
    "\n",
    "def logbin_px(df, x_var):\n",
    "    data = df[x_var].values\n",
    "    b0 = np.log10(min(data))\n",
    "    bn = np.log10(max(data))\n",
    "    \n",
    "    # create bins from data\n",
    "    bin_edges = np.logspace(b0, bn, num=21, endpoint=True, base=10.0, dtype=None, axis=0)\n",
    "    data_df = pd.DataFrame(data, columns = ['x'])\n",
    "    \n",
    "    # logbin the data\n",
    "    log_binned_dt = pd.cut(data, bin_edges, right=False)\n",
    "    data_df['bin'] = log_binned_dt\n",
    "    \n",
    "    # calculation various X and the Y\n",
    "    log_binned_xy = data_df.groupby(['bin']).agg({'x': [\"min\", \"max\", \"count\", \"mean\"]}).droplevel(axis=1, level=0).reset_index()\n",
    "    log_binned_xy.columns = ['bin', 'X_min', 'X_max', 'X_cnt', 'X_mean']\n",
    "    log_binned_xy['X_sqrt_prod'] = log_binned_xy.apply(lambda row: np.sqrt((row['bin'].right)*(row['bin'].left)), axis = 1)\n",
    "    log_binned_xy['Y_prob'] = log_binned_xy.apply(lambda row: row['X_cnt']/(len(data)*(row['bin'].right - row['bin'].left)), axis = 1)\n",
    "\n",
    "    return log_binned_xy"
   ]
  },
  {
   "cell_type": "code",
   "execution_count": null,
   "id": "5eb10291-0a08-4308-9898-3196c679fa36",
   "metadata": {},
   "outputs": [],
   "source": [
    "lb_deg = logbin_px(dt_agg_df, 'degree')\n",
    "lb_deg.head(n=3)"
   ]
  },
  {
   "cell_type": "code",
   "execution_count": null,
   "id": "69123f81-61c7-419a-a0c5-25dc71f2b25e",
   "metadata": {},
   "outputs": [],
   "source": [
    "fig = plt.figure(figsize=(8, 8))\n",
    "ax = fig.add_subplot(111)\n",
    "ax.loglog(lb_deg['X_min'], lb_deg['Y_prob'])\n",
    "ax.set_xlabel('degree (log bin)')\n",
    "ax.set_ylabel('probability distribution (mean log bin)')\n"
   ]
  },
  {
   "cell_type": "code",
   "execution_count": null,
   "id": "c442bfb0-ef12-4f63-bd2e-1e29e4509024",
   "metadata": {},
   "outputs": [],
   "source": [
    "lb_knn = logbin_fx2(dt_agg_df, 'degree', 'knn(k)')\n",
    "lb_clust = logbin_fx2(dt_agg_df, 'degree', 'c(k)')"
   ]
  },
  {
   "cell_type": "code",
   "execution_count": null,
   "id": "68122109-c83c-4159-a463-09ce0bdb58b5",
   "metadata": {},
   "outputs": [],
   "source": [
    "lb_knn.head(n=3)"
   ]
  },
  {
   "cell_type": "code",
   "execution_count": null,
   "id": "7011ea43-e053-42aa-a832-b2f78a78369c",
   "metadata": {},
   "outputs": [],
   "source": [
    "lb_clust.head(n=3)"
   ]
  },
  {
   "cell_type": "code",
   "execution_count": null,
   "id": "5fa4c9af-80e5-4ab3-b61b-e5ad5844e853",
   "metadata": {},
   "outputs": [],
   "source": [
    "fig = plt.figure(figsize=(8, 8))\n",
    "ax = fig.add_subplot(111)\n",
    "ax.loglog(lb_knn['X_min'], lb_knn['Y_mean'])\n",
    "ax.set_xlabel('degree (log bin)')\n",
    "ax.set_ylabel('knn (mean log bin)')\n",
    "\n",
    "fig = plt.figure(figsize=(8, 8))\n",
    "ax = fig.add_subplot(111)\n",
    "ax.loglog(lb_clust['X_min'], lb_clust['Y_mean'])\n",
    "ax.set_xlabel('degree (log bin)')\n",
    "ax.set_ylabel('degree dependent clustering (mean log bin)')"
   ]
  },
  {
   "cell_type": "markdown",
   "id": "9b97ab49-8241-4761-98ae-3b0150ac1252",
   "metadata": {},
   "source": [
    "#### Problem 2.3: Simplest model of scale-free networks\n"
   ]
  },
  {
   "cell_type": "code",
   "execution_count": null,
   "id": "d91d3ff2-713f-4929-8670-449f9278485f",
   "metadata": {},
   "outputs": [],
   "source": [
    "## Initialize the graph\n",
    "n = 10**3\n",
    "n_list = list(range(n))\n",
    "G = nx.Graph()\n",
    "G.add_edge(1, 2)\n",
    "\n",
    "new_node = 3\n",
    "while new_node <= n:\n",
    "    eg = list(G.edges())\n",
    "    random_e = random.choice(eg)\n",
    "#     print(random_e)\n",
    "    G.add_edge(random_e[0], new_node)\n",
    "    G.add_edge(random_e[1], new_node)\n",
    "    new_node += 1\n",
    "    \n",
    "nx.draw_spring(G, node_size=10)"
   ]
  },
  {
   "cell_type": "markdown",
   "id": "c78bdcb1-a0f4-46b6-915c-abf25316e471",
   "metadata": {},
   "source": [
    "#### Problem 2.4: Measurements of degree-dependent quantities"
   ]
  },
  {
   "cell_type": "code",
   "execution_count": null,
   "id": "a9b8b894-8ed6-4757-84f7-30069065231c",
   "metadata": {},
   "outputs": [],
   "source": [
    "## Initialize the graph\n",
    "n = 10**5\n",
    "\n",
    "G2 = nx.Graph()\n",
    "eg = [(1,2)]\n",
    "G2.add_edge(1, 2)\n",
    "\n",
    "new_node = 3\n",
    "while new_node <= n:\n",
    "    random_e = random.choice(eg)\n",
    "    eg.append((random_e[0], new_node))\n",
    "    eg.append((random_e[1], new_node))\n",
    "    new_node += 1\n",
    "    \n",
    "G2.add_edges_from(eg)\n",
    "    "
   ]
  },
  {
   "cell_type": "code",
   "execution_count": null,
   "id": "c2834314-4464-4b6e-b96c-cb46e5a6c8a4",
   "metadata": {},
   "outputs": [],
   "source": [
    "def logbin_px(df, x_var):\n",
    "    data = df[x_var].values\n",
    "    b0 = np.log10(min(data))\n",
    "    bn = np.log10(max(data))\n",
    "    \n",
    "    # create bins from data\n",
    "    bin_edges = np.logspace(b0, bn, num=21, endpoint=True, base=10.0, dtype=None, axis=0)\n",
    "    data_df = pd.DataFrame(data, columns = ['x'])\n",
    "    \n",
    "    # logbin the data\n",
    "    log_binned_dt = pd.cut(data, bin_edges, right=False)\n",
    "    data_df['bin'] = log_binned_dt\n",
    "    \n",
    "    # calculation various X and the Y\n",
    "    log_binned_xy = data_df.groupby(['bin']).agg({'x': [\"min\", \"max\", \"count\", \"mean\"]}).droplevel(axis=1, level=0).reset_index()\n",
    "    log_binned_xy.columns = ['bin', 'X_min', 'X_max', 'X_cnt', 'X_mean']\n",
    "    log_binned_xy['X_sqrt_prod'] = log_binned_xy.apply(lambda row: np.sqrt((row['bin'].right)*(row['bin'].left)), axis = 1)\n",
    "    log_binned_xy['Y_prob'] = log_binned_xy.apply(lambda row: row['X_cnt']/(len(data)*(row['bin'].right - row['bin'].left)), axis = 1)\n",
    "\n",
    "    return log_binned_xy"
   ]
  },
  {
   "cell_type": "code",
   "execution_count": null,
   "id": "2849678e-6ce1-47a5-b413-fe0fee85921d",
   "metadata": {},
   "outputs": [],
   "source": [
    "# Create degree, triangle count\n",
    "degrees = {node:val for (node, val) in G2.degree()}\n",
    "triangles = nx.triangles(G2)\n",
    "\n",
    "def locclust(row):\n",
    "    val = row['tri']/comb(row['degree'], 2)\n",
    "    return val\n",
    "\n",
    "# Create knn values\n",
    "knn_val2 = {}\n",
    "for main_node in G2.nodes():\n",
    "    knn = 0\n",
    "    for neigh in G2.neighbors(main_node):\n",
    "        knn += degrees[neigh]\n",
    "    knn_val2[main_node] = knn/degrees[main_node]\n",
    "\n",
    "# Create dataframe with 4 values\n",
    "dt_df2 = pd.DataFrame.from_dict(degrees, orient = 'index', columns = ['degree'])\n",
    "dt_df2['tri'] = triangles.values()\n",
    "dt_df2['loc_clust'] = dt_df2.apply(locclust, axis = 1)\n",
    "dt_df2['knn_val'] = knn_val2.values()\n",
    "dt_df2 = dt_df2.sort_values(by=['degree'])\n",
    "\n",
    "dt_df2"
   ]
  },
  {
   "cell_type": "code",
   "execution_count": null,
   "id": "5bf4af6a-f3c2-48c7-a4b4-b4a37de115e6",
   "metadata": {},
   "outputs": [],
   "source": [
    "dt_agg_df2 = dt_df2[['degree', 'loc_clust', 'knn_val']].groupby(['degree']).agg({'loc_clust':['mean'], 'knn_val':['mean']}).droplevel(axis=1, level=0).reset_index()\n",
    "dt_agg_df2.columns = ['degree', 'c(k)', 'knn(k)']\n",
    "dt_agg_df2"
   ]
  },
  {
   "cell_type": "code",
   "execution_count": null,
   "id": "4e8eb8b6-9b55-4da5-9a09-33d6fbce9d21",
   "metadata": {},
   "outputs": [],
   "source": [
    "lb_deg2 = logbin_px(dt_df2, 'degree')\n",
    "lb_deg2"
   ]
  },
  {
   "cell_type": "code",
   "execution_count": null,
   "id": "fb5f0d1c-e61c-4749-b5ac-413968b54468",
   "metadata": {},
   "outputs": [],
   "source": [
    "fig = plt.figure(figsize=(8, 8))\n",
    "ax = fig.add_subplot(111)\n",
    "ax.loglog(lb_deg2['X_min'], lb_deg2['Y_prob'])\n",
    "ax.set_xlabel('degree, $k$ [log binned]')\n",
    "ax.set_ylabel('$p(k)$ [log binned]')"
   ]
  },
  {
   "cell_type": "code",
   "execution_count": null,
   "id": "3ec34cfd-527c-4fec-8d19-6d3bd8316268",
   "metadata": {},
   "outputs": [],
   "source": [
    "#### Theoretical degree distribution\n",
    "\n",
    "def theo_pk(row):\n",
    "    k = row['degree']\n",
    "    prob_k = 12/(k*(k+1)*(k+2))\n",
    "    return prob_k\n",
    "\n",
    "dt_df2['theo_pk'] = dt_df2.apply(theo_pk, axis = 1)\n",
    "dt_df2"
   ]
  },
  {
   "cell_type": "code",
   "execution_count": null,
   "id": "a36b7687-022b-4345-b770-cfd8b1d3c252",
   "metadata": {},
   "outputs": [],
   "source": [
    "lb_theo_pk = logbin_px(dt_df2, 'theo_pk')\n",
    "lb_theo_pk"
   ]
  },
  {
   "cell_type": "code",
   "execution_count": null,
   "id": "1ff5d8c5-90cc-4bfc-86f5-e5575bf9cdba",
   "metadata": {},
   "outputs": [],
   "source": [
    "fig = plt.figure(figsize=(8, 8))\n",
    "ax = fig.add_subplot(111)\n",
    "ax.loglog(lb_theo_pk['X_min'], lb_theo_pk['Y_prob'], color = 'r', label = 'theoretical $p(k)$')\n",
    "ax.loglog(lb_deg2['X_min'], lb_deg2['Y_prob'], label = 'calculated')\n",
    "ax.set_xlabel('degree, $k$ [log binned]')\n",
    "ax.set_ylabel('$p(k)$ [log binned]')\n",
    "ax.legend()"
   ]
  },
  {
   "cell_type": "code",
   "execution_count": null,
   "id": "7f9dd95f-504e-4b5b-b9ff-431711f727b7",
   "metadata": {},
   "outputs": [],
   "source": [
    "lb_knn2 = logbin_fx2(dt_agg_df2, 'degree', 'knn(k)')\n",
    "lb_clust2 = logbin_fx2(dt_agg_df2, 'degree', 'c(k)')\n",
    "\n",
    "fig = plt.figure(figsize=(8, 8))\n",
    "ax = fig.add_subplot(111)\n",
    "ax.loglog(lb_knn2['X_min'], lb_knn2['Y_mean'])\n",
    "ax.set_xlabel('degree, $k$ [log binned]')\n",
    "ax.set_ylabel('knn(k) [log binned, mean]')\n",
    "\n",
    "fig = plt.figure(figsize=(8, 8))\n",
    "ax = fig.add_subplot(111)\n",
    "ax.loglog(lb_clust2['X_min'], lb_clust2['Y_mean'])\n",
    "ax.set_xlabel('degree, $k$ [log binned]')\n",
    "ax.set_ylabel('c(k) [log binned, mean]')\n"
   ]
  },
  {
   "cell_type": "markdown",
   "id": "09ccaa6a-2f28-479c-ba66-b7c657b57374",
   "metadata": {},
   "source": [
    "##### Explanation\n",
    "\n",
    "* Degree distribution: \n",
    "Exhibits power-law distribution - straight line in log-log plot. The theoretical $p(k)$ represents the \n",
    "\n",
    "* Degree-dependent clustering: \n",
    "It also exhibits a power-law distribution\n",
    "\n",
    "* Average nearest neighbor degrees:\n",
    "\n"
   ]
  },
  {
   "cell_type": "markdown",
   "id": "baa66ddf-b885-45ae-9e05-68d9f2708105",
   "metadata": {},
   "source": [
    "#### Problem 4: Extra Credit\n"
   ]
  },
  {
   "cell_type": "code",
   "execution_count": null,
   "id": "fc4108e8-8e35-48a4-93e1-35eec5ec8d78",
   "metadata": {},
   "outputs": [],
   "source": [
    "# Create degree, triangle count\n",
    "degrees = {node:val for (node, val) in G.degree()}\n",
    "triangles = nx.triangles(G)\n",
    "\n",
    "# Create degree-dependent clustering values\n",
    "def locclust(row):\n",
    "    val = row['tri']/comb(row['degree'], 2)\n",
    "    return val\n",
    "\n",
    "# Create knn values\n",
    "knn_val = {}\n",
    "for main_node in G.nodes():\n",
    "    knn = 0\n",
    "    for neigh in G.neighbors(main_node):\n",
    "        knn += degrees[neigh]\n",
    "    knn_val[main_node] = knn/degrees[main_node]\n",
    "\n",
    "\n",
    "# Create dataframe with 4 values\n",
    "dt_df3 = pd.DataFrame.from_dict(degrees, orient = 'index', columns = ['degree'])\n",
    "dt_df3['tri'] = triangles.values()\n",
    "dt_df3['loc_clust'] = dt_df3.apply(locclust, axis = 1)\n",
    "dt_df3['knn_val'] = knn_val.values()\n",
    "dt_df3 = dt_df3.sort_values(by=['degree'])\n",
    "\n",
    "\n",
    "dt_agg_df3 = dt_df3[['degree', 'loc_clust', 'knn_val']].groupby(['degree']).agg({'loc_clust':['mean'], 'knn_val':['mean']}).droplevel(axis=1, level=0).reset_index()\n",
    "dt_agg_df3.columns = ['degree', 'c(k)', 'knn(k)']\n",
    "dt_agg_df3.head()\n"
   ]
  },
  {
   "cell_type": "code",
   "execution_count": null,
   "id": "92ec3414-b720-4548-8c12-c33f85d0c48c",
   "metadata": {},
   "outputs": [],
   "source": [
    "lb_clust3 = logbin_fx2(dt_agg_df3, 'degree', 'c(k)')\n",
    "lb_clust3.head()"
   ]
  },
  {
   "cell_type": "code",
   "execution_count": null,
   "id": "9162b11c-1154-41d9-b529-682c3441d1c9",
   "metadata": {},
   "outputs": [],
   "source": [
    "fig = plt.figure(figsize=(8, 8))\n",
    "ax = fig.add_subplot(111)\n",
    "ax.loglog(lb_clust2['X_min'], lb_clust2['Y_mean'], label = 'simulated; n = 10e4')\n",
    "ax.loglog(lb_clust3['X_min'], lb_clust3['Y_mean'], color = 'r', label = 'simulated; n = 10e2')\n",
    "ax.set_xlabel('degree, $k$ [log binned]')\n",
    "ax.set_ylabel('c(k) [log binned, mean]')\n",
    "ax.legend()\n",
    "plt.title('Degree dependent clustering comparison')"
   ]
  },
  {
   "cell_type": "code",
   "execution_count": null,
   "id": "29ca489f-8b00-4c31-83bc-8deef9c7f507",
   "metadata": {},
   "outputs": [],
   "source": []
  }
 ],
 "metadata": {
  "kernelspec": {
   "display_name": "Python 3 (ipykernel)",
   "language": "python",
   "name": "python3"
  },
  "language_info": {
   "codemirror_mode": {
    "name": "ipython",
    "version": 3
   },
   "file_extension": ".py",
   "mimetype": "text/x-python",
   "name": "python",
   "nbconvert_exporter": "python",
   "pygments_lexer": "ipython3",
   "version": "3.9.7"
  }
 },
 "nbformat": 4,
 "nbformat_minor": 5
}
